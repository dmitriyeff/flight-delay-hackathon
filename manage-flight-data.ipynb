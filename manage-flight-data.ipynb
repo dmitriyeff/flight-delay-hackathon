{
 "cells": [
  {
   "cell_type": "code",
   "execution_count": null,
   "id": "25975463",
   "metadata": {},
   "outputs": [],
   "source": [
    "# Install all dependencies\n",
    "%pip install pandas lightgbm scikit-learn numpy matplotlib\n",
    "\n",
    "# load libraries\n",
    "import pandas as pd\n",
    "from sklearn.model_selection import train_test_split\n",
    "import matplotlib.pyplot as plt\n",
    "import lightgbm as lgb\n",
    "from sklearn.metrics import accuracy_score\n",
    "from sklearn.metrics import classification_report, confusion_matrix"
   ]
  },
  {
   "cell_type": "code",
   "execution_count": null,
   "id": "97883186",
   "metadata": {},
   "outputs": [],
   "source": [
    "# load data from csv flights.csv file\n",
    "flights = pd.read_csv('data/flights.csv')\n",
    "rows = []\n",
    "for _, row in flights.iterrows():\n",
    "    rows.append({\n",
    "        'Month': row['Month'],\n",
    "        'DayofMonth': row['DayofMonth'],\n",
    "        'Carrier': row['Carrier'],\n",
    "        'OriginAirportID': row['OriginAirportID'],\n",
    "        'DestAirportID': row['DestAirportID'],\n",
    "        'DepDelay': row['DepDelay']\n",
    "    });\n",
    "\n",
    "# convert to pandas dataframe\n",
    "features = pd.DataFrame(rows)\n",
    "\n",
    "# Encode Carrier as categorical codes\n",
    "features['Carrier'] = features['Carrier'].astype('category').cat.codes\n",
    "\n",
    "labels = flights['ArrDel15'].astype(int).values\n",
    "\n",
    "# split into training and test sets\n",
    "X_train, X_test, y_train, y_test = train_test_split(features, labels, test_size=0.2, random_state=42)"
   ]
  },
  {
   "cell_type": "code",
   "execution_count": null,
   "id": "db42067a",
   "metadata": {},
   "outputs": [],
   "source": [
    "# Prepare LightGBM datasets\n",
    "lgb_train = lgb.Dataset(X_train, y_train)\n",
    "lgb_eval = lgb.Dataset(X_test, y_test, reference=lgb_train)\n",
    "\n",
    "# Set parameters\n",
    "params = {\n",
    "    'objective': 'binary',\n",
    "    'metric': 'binary_logloss',\n",
    "    'verbosity': -1,\n",
    "    'boosting_type': 'gbdt',\n",
    "    'random_state': 42\n",
    "}\n",
    "\n",
    "# Train the model\n",
    "gbm = lgb.train(\n",
    "\tparams,\n",
    "\tlgb_train,\n",
    "\tvalid_sets=[lgb_train, lgb_eval],\n",
    "\tnum_boost_round=100,\n",
    "\tcallbacks=[lgb.early_stopping(10), lgb.log_evaluation(10)]\n",
    ")\n"
   ]
  },
  {
   "cell_type": "markdown",
   "id": "7eef1369",
   "metadata": {},
   "source": [
    "## Explanation of LightGBM Training Results\n",
    "\n",
    "- The model was trained for 100 boosting rounds, as early stopping was not triggered (validation loss kept improving or plateaued).\n",
    "- `binary_logloss` is the loss function for binary classification; lower values indicate better model fit.\n",
    "- Both training and validation logloss decreased steadily, showing the model is learning and not overfitting.\n",
    "- Final logloss values:  \n",
    "  - Training: **0.228**  \n",
    "  - Validation: **0.233**\n",
    "- The small gap between training and validation logloss suggests good generalization to unseen data."
   ]
  },
  {
   "cell_type": "code",
   "execution_count": null,
   "id": "4503fc8c",
   "metadata": {},
   "outputs": [],
   "source": [
    "# Measure model accuracy on the test set\n",
    "# Predict probabilities and convert to binary predictions\n",
    "y_pred_proba = gbm.predict(X_test)\n",
    "y_pred = (y_pred_proba > 0.5).astype(int)\n",
    "\n",
    "accuracy = accuracy_score(y_test, y_pred)\n",
    "print(f\"Test set accuracy: {accuracy * 100:.2f}%\")"
   ]
  },
  {
   "cell_type": "code",
   "execution_count": null,
   "id": "ba90d5ae",
   "metadata": {},
   "outputs": [],
   "source": [
    "# Save the trained LightGBM model to a file\n",
    "gbm.save_model('flight_delay_lgbm.txt')\n",
    "print(\"Model saved to flight_delay_lgbm.txt\")"
   ]
  },
  {
   "cell_type": "code",
   "execution_count": null,
   "id": "d12bde5c",
   "metadata": {},
   "outputs": [],
   "source": [
    "# Load the saved LightGBM model\n",
    "loaded_gbm = lgb.Booster(model_file='flight_delay_lgbm.txt')\n",
    "\n",
    "def predict_delay(origin_airport_id, dest_airport_id, day_of_week):\n",
    "\t# Use median values from training data for other features\n",
    "\tsample = X_train.median(numeric_only=True).to_dict()\n",
    "\tsample['OriginAirportID'] = origin_airport_id\n",
    "\tsample['DestAirportID'] = dest_airport_id\n",
    "\tsample['DayOfWeek'] = day_of_week\n",
    "\t# Carrier is categorical, use most frequent value\n",
    "\tsample['Carrier'] = X_train['Carrier'].mode()[0]\n",
    "\t# Ensure correct order of columns\n",
    "\tcolumns = X_train.columns\n",
    "\tsample_df = pd.DataFrame([sample], columns=columns)\n",
    "\t# Predict probability\n",
    "\tproba = loaded_gbm.predict(sample_df)[0]\n",
    "\tprediction = int(proba > 0.5)\n",
    "\treturn prediction, proba\n",
    "\n",
    "# Example usage:\n",
    "# pred, prob = predict_delay(15304, 12478, 1)\n",
    "# print(f\"Predicted delay: {pred} (probability: {prob:.2f})\")"
   ]
  },
  {
   "cell_type": "code",
   "execution_count": null,
   "id": "8e3e4ac9",
   "metadata": {},
   "outputs": [],
   "source": [
    "# Test the prediction function\n",
    "pred, prob = predict_delay(12478, 11057, 5)\n",
    "print(f\"Predicted delay: {pred} (probability: {prob * 100:.2f}%)\")"
   ]
  },
  {
   "cell_type": "code",
   "execution_count": null,
   "id": "a3cb322e",
   "metadata": {},
   "outputs": [],
   "source": [
    "# testing the accuracy of the model\n",
    "print(\"Confusion Matrix:\")\n",
    "print(confusion_matrix(y_test, y_pred))\n",
    "\n",
    "print(\"\\nClassification Report:\")\n",
    "print(classification_report(y_test, y_pred))"
   ]
  }
 ],
 "metadata": {
  "kernelspec": {
   "display_name": "base",
   "language": "python",
   "name": "python3"
  },
  "language_info": {
   "codemirror_mode": {
    "name": "ipython",
    "version": 3
   },
   "file_extension": ".py",
   "mimetype": "text/x-python",
   "name": "python",
   "nbconvert_exporter": "python",
   "pygments_lexer": "ipython3",
   "version": "3.11.5"
  }
 },
 "nbformat": 4,
 "nbformat_minor": 5
}
