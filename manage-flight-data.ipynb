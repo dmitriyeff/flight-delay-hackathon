{
 "cells": [
  {
   "cell_type": "code",
   "execution_count": 56,
   "id": "25975463",
   "metadata": {},
   "outputs": [
    {
     "name": "stdout",
     "output_type": "stream",
     "text": [
      "Requirement already satisfied: pandas in /Users/denissdmitrijevs/anaconda3/lib/python3.11/site-packages (2.0.3)\n",
      "Requirement already satisfied: lightgbm in /Users/denissdmitrijevs/anaconda3/lib/python3.11/site-packages (4.6.0)\n",
      "Requirement already satisfied: scikit-learn in /Users/denissdmitrijevs/anaconda3/lib/python3.11/site-packages (1.3.0)\n",
      "Requirement already satisfied: numpy in /Users/denissdmitrijevs/anaconda3/lib/python3.11/site-packages (1.24.3)\n",
      "Requirement already satisfied: matplotlib in /Users/denissdmitrijevs/anaconda3/lib/python3.11/site-packages (3.7.2)\n",
      "Requirement already satisfied: python-dateutil>=2.8.2 in /Users/denissdmitrijevs/anaconda3/lib/python3.11/site-packages (from pandas) (2.8.2)\n",
      "Requirement already satisfied: pytz>=2020.1 in /Users/denissdmitrijevs/anaconda3/lib/python3.11/site-packages (from pandas) (2023.3.post1)\n",
      "Requirement already satisfied: tzdata>=2022.1 in /Users/denissdmitrijevs/anaconda3/lib/python3.11/site-packages (from pandas) (2023.3)\n",
      "Requirement already satisfied: scipy in /Users/denissdmitrijevs/anaconda3/lib/python3.11/site-packages (from lightgbm) (1.11.1)\n",
      "Requirement already satisfied: joblib>=1.1.1 in /Users/denissdmitrijevs/anaconda3/lib/python3.11/site-packages (from scikit-learn) (1.2.0)\n",
      "Requirement already satisfied: threadpoolctl>=2.0.0 in /Users/denissdmitrijevs/anaconda3/lib/python3.11/site-packages (from scikit-learn) (2.2.0)\n",
      "Requirement already satisfied: contourpy>=1.0.1 in /Users/denissdmitrijevs/anaconda3/lib/python3.11/site-packages (from matplotlib) (1.0.5)\n",
      "Requirement already satisfied: cycler>=0.10 in /Users/denissdmitrijevs/anaconda3/lib/python3.11/site-packages (from matplotlib) (0.11.0)\n",
      "Requirement already satisfied: fonttools>=4.22.0 in /Users/denissdmitrijevs/anaconda3/lib/python3.11/site-packages (from matplotlib) (4.25.0)\n",
      "Requirement already satisfied: kiwisolver>=1.0.1 in /Users/denissdmitrijevs/anaconda3/lib/python3.11/site-packages (from matplotlib) (1.4.4)\n",
      "Requirement already satisfied: packaging>=20.0 in /Users/denissdmitrijevs/anaconda3/lib/python3.11/site-packages (from matplotlib) (23.1)\n",
      "Requirement already satisfied: pillow>=6.2.0 in /Users/denissdmitrijevs/anaconda3/lib/python3.11/site-packages (from matplotlib) (10.0.1)\n",
      "Requirement already satisfied: pyparsing<3.1,>=2.3.1 in /Users/denissdmitrijevs/anaconda3/lib/python3.11/site-packages (from matplotlib) (3.0.9)\n",
      "Requirement already satisfied: six>=1.5 in /Users/denissdmitrijevs/anaconda3/lib/python3.11/site-packages (from python-dateutil>=2.8.2->pandas) (1.16.0)\n",
      "Note: you may need to restart the kernel to use updated packages.\n"
     ]
    }
   ],
   "source": [
    "# Install all dependencies\n",
    "%pip install pandas lightgbm scikit-learn numpy matplotlib\n",
    "\n",
    "# load libraries\n",
    "import pandas as pd\n",
    "from sklearn.model_selection import train_test_split\n",
    "import matplotlib.pyplot as plt\n",
    "import lightgbm as lgb\n",
    "from sklearn.metrics import accuracy_score\n",
    "from sklearn.metrics import classification_report, confusion_matrix"
   ]
  },
  {
   "cell_type": "code",
   "execution_count": 57,
   "id": "97883186",
   "metadata": {},
   "outputs": [],
   "source": [
    "# load data from csv flights.csv file\n",
    "flights = pd.read_csv('data/flights.csv')\n",
    "rows = []\n",
    "for _, row in flights.iterrows():\n",
    "    rows.append({\n",
    "        'Month': row['Month'],\n",
    "        'DayofMonth': row['DayofMonth'],\n",
    "        'Carrier': row['Carrier'],\n",
    "        'OriginAirportID': row['OriginAirportID'],\n",
    "        'DestAirportID': row['DestAirportID'],\n",
    "        'DepDelay': row['DepDelay']\n",
    "    });\n",
    "\n",
    "# convert to pandas dataframe\n",
    "features = pd.DataFrame(rows)\n",
    "\n",
    "# Encode Carrier as categorical codes\n",
    "features['Carrier'] = features['Carrier'].astype('category').cat.codes\n",
    "\n",
    "labels = flights['ArrDel15'].astype(int).values\n",
    "\n",
    "# split into training and test sets\n",
    "X_train, X_test, y_train, y_test = train_test_split(features, labels, test_size=0.2, random_state=42)"
   ]
  },
  {
   "cell_type": "code",
   "execution_count": 58,
   "id": "db42067a",
   "metadata": {},
   "outputs": [
    {
     "name": "stdout",
     "output_type": "stream",
     "text": [
      "Training until validation scores don't improve for 10 rounds\n",
      "[10]\ttraining's binary_logloss: 0.295655\tvalid_1's binary_logloss: 0.293816\n",
      "[20]\ttraining's binary_logloss: 0.253636\tvalid_1's binary_logloss: 0.252521\n",
      "[30]\ttraining's binary_logloss: 0.241665\tvalid_1's binary_logloss: 0.241199\n",
      "[40]\ttraining's binary_logloss: 0.237002\tvalid_1's binary_logloss: 0.237243\n",
      "[50]\ttraining's binary_logloss: 0.234381\tvalid_1's binary_logloss: 0.235345\n",
      "[60]\ttraining's binary_logloss: 0.232579\tvalid_1's binary_logloss: 0.234291\n",
      "[70]\ttraining's binary_logloss: 0.231233\tvalid_1's binary_logloss: 0.233745\n",
      "[80]\ttraining's binary_logloss: 0.230092\tvalid_1's binary_logloss: 0.233391\n",
      "[90]\ttraining's binary_logloss: 0.229025\tvalid_1's binary_logloss: 0.233063\n",
      "[100]\ttraining's binary_logloss: 0.228236\tvalid_1's binary_logloss: 0.232966\n",
      "Did not meet early stopping. Best iteration is:\n",
      "[100]\ttraining's binary_logloss: 0.228236\tvalid_1's binary_logloss: 0.232966\n"
     ]
    }
   ],
   "source": [
    "# Prepare LightGBM datasets\n",
    "lgb_train = lgb.Dataset(X_train, y_train)\n",
    "lgb_eval = lgb.Dataset(X_test, y_test, reference=lgb_train)\n",
    "\n",
    "# Set parameters\n",
    "params = {\n",
    "    'objective': 'binary',\n",
    "    'metric': 'binary_logloss',\n",
    "    'verbosity': -1,\n",
    "    'boosting_type': 'gbdt',\n",
    "    'random_state': 42\n",
    "}\n",
    "\n",
    "# Train the model\n",
    "gbm = lgb.train(\n",
    "\tparams,\n",
    "\tlgb_train,\n",
    "\tvalid_sets=[lgb_train, lgb_eval],\n",
    "\tnum_boost_round=100,\n",
    "\tcallbacks=[lgb.early_stopping(10), lgb.log_evaluation(10)]\n",
    ")\n"
   ]
  },
  {
   "cell_type": "markdown",
   "id": "7eef1369",
   "metadata": {},
   "source": [
    "## Explanation of LightGBM Training Results\n",
    "\n",
    "- The model was trained for 100 boosting rounds, as early stopping was not triggered (validation loss kept improving or plateaued).\n",
    "- `binary_logloss` is the loss function for binary classification; lower values indicate better model fit.\n",
    "- Both training and validation logloss decreased steadily, showing the model is learning and not overfitting.\n",
    "- Final logloss values:  \n",
    "  - Training: **0.228**  \n",
    "  - Validation: **0.233**\n",
    "- The small gap between training and validation logloss suggests good generalization to unseen data."
   ]
  },
  {
   "cell_type": "code",
   "execution_count": 59,
   "id": "4503fc8c",
   "metadata": {},
   "outputs": [
    {
     "name": "stdout",
     "output_type": "stream",
     "text": [
      "Test set accuracy: 91.54%\n"
     ]
    }
   ],
   "source": [
    "# Measure model accuracy on the test set\n",
    "# Predict probabilities and convert to binary predictions\n",
    "y_pred_proba = gbm.predict(X_test)\n",
    "y_pred = (y_pred_proba > 0.5).astype(int)\n",
    "\n",
    "accuracy = accuracy_score(y_test, y_pred)\n",
    "print(f\"Test set accuracy: {accuracy * 100:.2f}%\")"
   ]
  },
  {
   "cell_type": "code",
   "execution_count": 60,
   "id": "ba90d5ae",
   "metadata": {},
   "outputs": [
    {
     "name": "stdout",
     "output_type": "stream",
     "text": [
      "Model saved to flight_delay_lgbm.txt\n"
     ]
    }
   ],
   "source": [
    "# Save the trained LightGBM model to a file\n",
    "gbm.save_model('flight_delay_lgbm.txt')\n",
    "print(\"Model saved to flight_delay_lgbm.txt\")"
   ]
  },
  {
   "cell_type": "code",
   "execution_count": 25,
   "id": "d12bde5c",
   "metadata": {},
   "outputs": [],
   "source": [
    "# Load the saved LightGBM model\n",
    "loaded_gbm = lgb.Booster(model_file='flight_delay_lgbm.txt')\n",
    "\n",
    "def predict_delay(origin_airport_id, dest_airport_id, day_of_week):\n",
    "\t# Use median values from training data for other features\n",
    "\tsample = X_train.median(numeric_only=True).to_dict()\n",
    "\tsample['OriginAirportID'] = origin_airport_id\n",
    "\tsample['DestAirportID'] = dest_airport_id\n",
    "\tsample['DayOfWeek'] = day_of_week\n",
    "\t# Carrier is categorical, use most frequent value\n",
    "\tsample['Carrier'] = X_train['Carrier'].mode()[0]\n",
    "\t# Ensure correct order of columns\n",
    "\tcolumns = X_train.columns\n",
    "\tsample_df = pd.DataFrame([sample], columns=columns)\n",
    "\t# Predict probability\n",
    "\tproba = loaded_gbm.predict(sample_df)[0]\n",
    "\tprediction = int(proba > 0.5)\n",
    "\treturn prediction, proba\n",
    "\n",
    "# Example usage:\n",
    "# pred, prob = predict_delay(15304, 12478, 1)\n",
    "# print(f\"Predicted delay: {pred} (probability: {prob:.2f})\")"
   ]
  },
  {
   "cell_type": "code",
   "execution_count": null,
   "id": "8e3e4ac9",
   "metadata": {},
   "outputs": [
    {
     "name": "stdout",
     "output_type": "stream",
     "text": [
      "Predicted delay: 0 (probability: 2.89%)\n",
      "Confusion Matrix:\n",
      "[[41815   951]\n",
      " [ 3649  7973]]\n",
      "\n",
      "Classification Report:\n",
      "              precision    recall  f1-score   support\n",
      "\n",
      "           0       0.92      0.98      0.95     42766\n",
      "           1       0.89      0.69      0.78     11622\n",
      "\n",
      "    accuracy                           0.92     54388\n",
      "   macro avg       0.91      0.83      0.86     54388\n",
      "weighted avg       0.91      0.92      0.91     54388\n",
      "\n"
     ]
    }
   ],
   "source": [
    "# Test the prediction function\n",
    "pred, prob = predict_delay(12478, 11057, 5)\n",
    "print(f\"Predicted delay: {pred} (probability: {prob * 100:.2f}%)\")"
   ]
  },
  {
   "cell_type": "code",
   "execution_count": 55,
   "id": "a3cb322e",
   "metadata": {},
   "outputs": [
    {
     "name": "stdout",
     "output_type": "stream",
     "text": [
      "Confusion Matrix:\n",
      "[[41815   951]\n",
      " [ 3649  7973]]\n",
      "\n",
      "Classification Report:\n",
      "              precision    recall  f1-score   support\n",
      "\n",
      "           0       0.92      0.98      0.95     42766\n",
      "           1       0.89      0.69      0.78     11622\n",
      "\n",
      "    accuracy                           0.92     54388\n",
      "   macro avg       0.91      0.83      0.86     54388\n",
      "weighted avg       0.91      0.92      0.91     54388\n",
      "\n"
     ]
    }
   ],
   "source": [
    "# testing the accuracy of the model\n",
    "print(\"Confusion Matrix:\")\n",
    "print(confusion_matrix(y_test, y_pred))\n",
    "\n",
    "print(\"\\nClassification Report:\")\n",
    "print(classification_report(y_test, y_pred))"
   ]
  }
 ],
 "metadata": {
  "kernelspec": {
   "display_name": "base",
   "language": "python",
   "name": "python3"
  },
  "language_info": {
   "codemirror_mode": {
    "name": "ipython",
    "version": 3
   },
   "file_extension": ".py",
   "mimetype": "text/x-python",
   "name": "python",
   "nbconvert_exporter": "python",
   "pygments_lexer": "ipython3",
   "version": "3.11.5"
  }
 },
 "nbformat": 4,
 "nbformat_minor": 5
}
